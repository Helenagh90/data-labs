{
 "cells": [
  {
   "cell_type": "markdown",
   "metadata": {},
   "source": [
    "IMPORTAR PANDAS Y LEER ARCHIVO:"
   ]
  },
  {
   "cell_type": "code",
   "execution_count": 1,
   "metadata": {},
   "outputs": [],
   "source": [
    "import pandas as pd\n",
    "archivo = pd.read_csv(\"/home/helena/Descargas/Sharks.csv\", encoding = \"latin-1\")"
   ]
  },
  {
   "cell_type": "markdown",
   "metadata": {},
   "source": [
    "VERIFICAR COLUMNAS Y FILAS. REVISAR NULLS SOBRE EL TOTAL DE FILAS:"
   ]
  },
  {
   "cell_type": "code",
   "execution_count": 2,
   "metadata": {},
   "outputs": [
    {
     "name": "stdout",
     "output_type": "stream",
     "text": [
      "(5992, 24)\n"
     ]
    },
    {
     "data": {
      "text/plain": [
       "Case Number                  0\n",
       "Date                         0\n",
       "Year                         0\n",
       "Type                         0\n",
       "Country                     43\n",
       "Area                       402\n",
       "Location                   496\n",
       "Activity                   527\n",
       "Name                       200\n",
       "Sex                        567\n",
       "Age                       2681\n",
       "Injury                      27\n",
       "Fatal (Y/N)                 19\n",
       "Time                      3213\n",
       "Species                   2934\n",
       "Investigator or Source      15\n",
       "pdf                          0\n",
       "href formula                 1\n",
       "href                         3\n",
       "Case Number.1                0\n",
       "Case Number.2                0\n",
       "original order               0\n",
       "Unnamed: 22               5991\n",
       "Unnamed: 23               5990\n",
       "dtype: int64"
      ]
     },
     "execution_count": 2,
     "metadata": {},
     "output_type": "execute_result"
    }
   ],
   "source": [
    "print(archivo.shape)\n",
    "archivo.isnull().sum()"
   ]
  },
  {
   "cell_type": "markdown",
   "metadata": {},
   "source": [
    "COMPROBAMOS QUE \"Unnamed: 22\" Y \"Unnamed: 23\" NO TIENEN INFORMACION RELEVANTE Y BORRAMOS COLUMNAS:"
   ]
  },
  {
   "cell_type": "code",
   "execution_count": 3,
   "metadata": {},
   "outputs": [],
   "source": [
    "archivo.drop(\"Unnamed: 22\", axis=1, inplace=True)\n",
    "archivo.drop(\"Unnamed: 23\", axis=1, inplace=True)"
   ]
  },
  {
   "cell_type": "markdown",
   "metadata": {},
   "source": [
    "COMPARAMOS QUE \"Case Number.comparacion\", \"Case Number.1\" y \"Case Number.2\" SON DIFERENTES CREANDO UNA NUEVA COLUMNA INDICANDO TRUE/FALSE:"
   ]
  },
  {
   "cell_type": "code",
   "execution_count": 4,
   "metadata": {},
   "outputs": [],
   "source": [
    "archivo[\"Case Number.comparacion1\"] = archivo[\"Case Number\"] == archivo[\"Case Number.1\"]\n",
    "archivo[\"Case Number.comparacion2\"] = archivo[\"Case Number\"] == archivo[\"Case Number.2\"]"
   ]
  },
  {
   "cell_type": "markdown",
   "metadata": {},
   "source": [
    "FILTRAMOS PARA VER LAS FILAS QUE NO SON IGUALES EN \"Case Number\" y \"Case Number.1\":"
   ]
  },
  {
   "cell_type": "code",
   "execution_count": 5,
   "metadata": {},
   "outputs": [
    {
     "data": {
      "text/html": [
       "<div>\n",
       "<style scoped>\n",
       "    .dataframe tbody tr th:only-of-type {\n",
       "        vertical-align: middle;\n",
       "    }\n",
       "\n",
       "    .dataframe tbody tr th {\n",
       "        vertical-align: top;\n",
       "    }\n",
       "\n",
       "    .dataframe thead th {\n",
       "        text-align: right;\n",
       "    }\n",
       "</style>\n",
       "<table border=\"1\" class=\"dataframe\">\n",
       "  <thead>\n",
       "    <tr style=\"text-align: right;\">\n",
       "      <th></th>\n",
       "      <th>Case Number.comparacion1</th>\n",
       "      <th>Case Number</th>\n",
       "      <th>Case Number.1</th>\n",
       "    </tr>\n",
       "  </thead>\n",
       "  <tbody>\n",
       "    <tr>\n",
       "      <th>4</th>\n",
       "      <td>False</td>\n",
       "      <td>2016.09.15</td>\n",
       "      <td>2016.09.16</td>\n",
       "    </tr>\n",
       "    <tr>\n",
       "      <th>33</th>\n",
       "      <td>False</td>\n",
       "      <td>2016.07.14.4</td>\n",
       "      <td>2016.07.14.R</td>\n",
       "    </tr>\n",
       "    <tr>\n",
       "      <th>97</th>\n",
       "      <td>False</td>\n",
       "      <td>2016.01.24.b</td>\n",
       "      <td>2015.01.24.b</td>\n",
       "    </tr>\n",
       "    <tr>\n",
       "      <th>116</th>\n",
       "      <td>False</td>\n",
       "      <td>2015.12.23</td>\n",
       "      <td>2015.11.07</td>\n",
       "    </tr>\n",
       "    <tr>\n",
       "      <th>121</th>\n",
       "      <td>False</td>\n",
       "      <td>2015.10.28.a</td>\n",
       "      <td>2015.10.28</td>\n",
       "    </tr>\n",
       "    <tr>\n",
       "      <th>169</th>\n",
       "      <td>False</td>\n",
       "      <td>2015.07-10</td>\n",
       "      <td>2015.07.10</td>\n",
       "    </tr>\n",
       "    <tr>\n",
       "      <th>3296</th>\n",
       "      <td>False</td>\n",
       "      <td>1967.07.05</td>\n",
       "      <td>1967/07.05</td>\n",
       "    </tr>\n",
       "    <tr>\n",
       "      <th>3569</th>\n",
       "      <td>False</td>\n",
       "      <td>1962,08.30.b</td>\n",
       "      <td>1962.08.30.b</td>\n",
       "    </tr>\n",
       "    <tr>\n",
       "      <th>3654</th>\n",
       "      <td>False</td>\n",
       "      <td>1961.09.02.R</td>\n",
       "      <td>1961.09,06.R</td>\n",
       "    </tr>\n",
       "    <tr>\n",
       "      <th>4177</th>\n",
       "      <td>False</td>\n",
       "      <td>1952.08.05</td>\n",
       "      <td>1952.08.04</td>\n",
       "    </tr>\n",
       "    <tr>\n",
       "      <th>4719</th>\n",
       "      <td>False</td>\n",
       "      <td>1934.01.08.R</td>\n",
       "      <td>1934.02.08.R</td>\n",
       "    </tr>\n",
       "    <tr>\n",
       "      <th>5043</th>\n",
       "      <td>False</td>\n",
       "      <td>1900.00.00.R</td>\n",
       "      <td>1919.00.00.R</td>\n",
       "    </tr>\n",
       "    <tr>\n",
       "      <th>5150</th>\n",
       "      <td>False</td>\n",
       "      <td>1911.07.31.R</td>\n",
       "      <td>1911.07.31.T</td>\n",
       "    </tr>\n",
       "  </tbody>\n",
       "</table>\n",
       "</div>"
      ],
      "text/plain": [
       "      Case Number.comparacion1   Case Number Case Number.1\n",
       "4                        False    2016.09.15    2016.09.16\n",
       "33                       False  2016.07.14.4  2016.07.14.R\n",
       "97                       False  2016.01.24.b  2015.01.24.b\n",
       "116                      False    2015.12.23    2015.11.07\n",
       "121                      False  2015.10.28.a    2015.10.28\n",
       "169                      False    2015.07-10    2015.07.10\n",
       "3296                     False    1967.07.05    1967/07.05\n",
       "3569                     False  1962,08.30.b  1962.08.30.b\n",
       "3654                     False  1961.09.02.R  1961.09,06.R\n",
       "4177                     False    1952.08.05    1952.08.04\n",
       "4719                     False  1934.01.08.R  1934.02.08.R\n",
       "5043                     False  1900.00.00.R  1919.00.00.R\n",
       "5150                     False  1911.07.31.R  1911.07.31.T"
      ]
     },
     "execution_count": 5,
     "metadata": {},
     "output_type": "execute_result"
    }
   ],
   "source": [
    "falsos1 = archivo[archivo[\"Case Number.comparacion1\"] != True]\n",
    "falsos1[[\"Case Number.comparacion1\", \"Case Number\", \"Case Number.1\"]]"
   ]
  },
  {
   "cell_type": "markdown",
   "metadata": {},
   "source": [
    "FILTRAMOS PARA VER LAS FILAS QUE NO SON IGUALES EN \"Case Number\" y \"Case Number.2\":"
   ]
  },
  {
   "cell_type": "code",
   "execution_count": 6,
   "metadata": {},
   "outputs": [
    {
     "data": {
      "text/html": [
       "<div>\n",
       "<style scoped>\n",
       "    .dataframe tbody tr th:only-of-type {\n",
       "        vertical-align: middle;\n",
       "    }\n",
       "\n",
       "    .dataframe tbody tr th {\n",
       "        vertical-align: top;\n",
       "    }\n",
       "\n",
       "    .dataframe thead th {\n",
       "        text-align: right;\n",
       "    }\n",
       "</style>\n",
       "<table border=\"1\" class=\"dataframe\">\n",
       "  <thead>\n",
       "    <tr style=\"text-align: right;\">\n",
       "      <th></th>\n",
       "      <th>Case Number.comparacion2</th>\n",
       "      <th>Case Number</th>\n",
       "      <th>Case Number.2</th>\n",
       "    </tr>\n",
       "  </thead>\n",
       "  <tbody>\n",
       "    <tr>\n",
       "      <th>169</th>\n",
       "      <td>False</td>\n",
       "      <td>2015.07-10</td>\n",
       "      <td>2015.07.10</td>\n",
       "    </tr>\n",
       "    <tr>\n",
       "      <th>4719</th>\n",
       "      <td>False</td>\n",
       "      <td>1934.01.08.R</td>\n",
       "      <td>1934.02.08.R</td>\n",
       "    </tr>\n",
       "  </tbody>\n",
       "</table>\n",
       "</div>"
      ],
      "text/plain": [
       "      Case Number.comparacion2   Case Number Case Number.2\n",
       "169                      False    2015.07-10    2015.07.10\n",
       "4719                     False  1934.01.08.R  1934.02.08.R"
      ]
     },
     "execution_count": 6,
     "metadata": {},
     "output_type": "execute_result"
    }
   ],
   "source": [
    "falsos2 = archivo[archivo[\"Case Number.comparacion2\"] != True]\n",
    "falsos2[[\"Case Number.comparacion2\", \"Case Number\", \"Case Number.2\"]]"
   ]
  },
  {
   "cell_type": "code",
   "execution_count": null,
   "metadata": {},
   "outputs": [],
   "source": []
  }
 ],
 "metadata": {
  "kernelspec": {
   "display_name": "Python 3",
   "language": "python",
   "name": "python3"
  },
  "language_info": {
   "codemirror_mode": {
    "name": "ipython",
    "version": 3
   },
   "file_extension": ".py",
   "mimetype": "text/x-python",
   "name": "python",
   "nbconvert_exporter": "python",
   "pygments_lexer": "ipython3",
   "version": "3.6.7"
  }
 },
 "nbformat": 4,
 "nbformat_minor": 2
}
