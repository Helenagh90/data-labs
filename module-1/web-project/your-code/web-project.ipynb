{
 "cells": [
  {
   "cell_type": "code",
   "execution_count": 1,
   "metadata": {},
   "outputs": [],
   "source": [
    "import requests\n",
    "from bs4 import BeautifulSoup\n",
    "import pandas as pd\n",
    "from pprint import pprint\n",
    "import nltk\n",
    "from nltk.corpus import stopwords\n",
    "from nltk.tokenize import word_tokenize\n",
    "import matplotlib.pyplot as plt\n",
    "import re\n",
    "import string"
   ]
  },
  {
   "cell_type": "code",
   "execution_count": 2,
   "metadata": {},
   "outputs": [],
   "source": [
    "url = \"https://www.themoscowtimes.com/\"\n",
    "\n",
    "#News:\n",
    "response = requests.get(url+\"news\")\n",
    "soup = BeautifulSoup(response.text, \"html.parser\")\n",
    "titles_container = soup.findAll('h3', {'class': 'article-excerpt-default__headline'})\n",
    "\n",
    "titles_info = [title.text for title in titles_container]"
   ]
  },
  {
   "cell_type": "code",
   "execution_count": 3,
   "metadata": {},
   "outputs": [],
   "source": [
    "#News+Opinion:\n",
    "response = requests.get(url+\"opinion\")\n",
    "titles_info = str(titles_info) + str([title.text for title in titles_container])"
   ]
  },
  {
   "cell_type": "code",
   "execution_count": 4,
   "metadata": {},
   "outputs": [],
   "source": [
    "#News+Opinion+Business:\n",
    "response = requests.get(url+\"business\")\n",
    "titles_info = str(titles_info) + str([title.text for title in titles_container])"
   ]
  },
  {
   "cell_type": "code",
   "execution_count": 5,
   "metadata": {},
   "outputs": [],
   "source": [
    "#News+Opinion+Business+ArtAndLife:\n",
    "response = requests.get(url+\"arts-and-life\")\n",
    "titles_info = str(titles_info) + str([title.text for title in titles_container])"
   ]
  },
  {
   "cell_type": "code",
   "execution_count": 6,
   "metadata": {},
   "outputs": [
    {
     "name": "stdout",
     "output_type": "stream",
     "text": [
      "(\"['Russia to Suspend Georgian Flights to Russia Starting July 8', 'Putin \"\n",
      " \"Suspends Passenger Flights From Russia to Georgia', 'Russia Will Help Iran \"\n",
      " \"With Oil If Payment Channel Not Launched, Official Says', 'Russians Are \"\n",
      " \"Losing Interest in Foreign Policy, Poll Says', 'Russian Hermit Seeks Peace \"\n",
      " \"in Remote Siberia', 'Georgian Parliament Leader Resigns Over Mass \"\n",
      " \"Anti-Russian Protests', 'Russia Accuses U.S. of Pushing Iran Situation to \"\n",
      " \"Brink of War', 'Chechen Human Rights Leader Titiyev Released From Prison, 18 \"\n",
      " \"Months After Arrest', '‘Russia Is Our Enemy’: The Reactions to Anti-Russian \"\n",
      " \"Protests in Georgia', 'EU Extends Economic Sanctions on Russia Until 2020', \"\n",
      " '\"Georgians Angry Over Russian Lawmaker\\'s Visit Try to Storm Parliament\", '\n",
      " \"'‘Like Pre-Revolutionary Pogroms’: Ethnic Conflicts on the Rise in Russia', \"\n",
      " \"'Crowds of Protesters Set Up Camp Against Landfill in Russia’s North', \"\n",
      " \"'Russia Starts Freeing Captive Belugas From ‘Whale Prison,’ Reports Say', \"\n",
      " '\"The Key Quotes of Putin\\'s Annual Question and Answer Session\", '\n",
      " \"'Protesters Support Teenage Sisters Charged With Murder for Killing Abusive \"\n",
      " \"Father', 'Fate of Captured Ukrainian Sailors Must be Tied to Jailed \"\n",
      " \"Russians, Putin Says', 'EU Lost 5 Times More From Sanctions Than Russia, \"\n",
      " \"Putin Says']['Russia to Suspend Georgian Flights to Russia Starting July 8', \"\n",
      " \"'Putin Suspends Passenger Flights From Russia to Georgia', 'Russia Will Help \"\n",
      " \"Iran With Oil If Payment Channel Not Launched, Official Says', 'Russians Are \"\n",
      " \"Losing Interest in Foreign Policy, Poll Says', 'Russian Hermit Seeks Peace \"\n",
      " \"in Remote Siberia', 'Georgian Parliament Leader Resigns Over Mass \"\n",
      " \"Anti-Russian Protests', 'Russia Accuses U.S. of Pushing Iran Situation to \"\n",
      " \"Brink of War', 'Chechen Human Rights Leader Titiyev Released From Prison, 18 \"\n",
      " \"Months After Arrest', '‘Russia Is Our Enemy’: The Reactions to Anti-Russian \"\n",
      " \"Protests in Georgia', 'EU Extends Economic Sanctions on Russia Until 2020', \"\n",
      " '\"Georgians Angry Over Russian Lawmaker\\'s Visit Try to Storm Parliament\", '\n",
      " \"'‘Like Pre-Revolutionary Pogroms’: Ethnic Conflicts on the Rise in Russia', \"\n",
      " \"'Crowds of Protesters Set Up Camp Against Landfill in Russia’s North', \"\n",
      " \"'Russia Starts Freeing Captive Belugas From ‘Whale Prison,’ Reports Say', \"\n",
      " '\"The Key Quotes of Putin\\'s Annual Question and Answer Session\", '\n",
      " \"'Protesters Support Teenage Sisters Charged With Murder for Killing Abusive \"\n",
      " \"Father', 'Fate of Captured Ukrainian Sailors Must be Tied to Jailed \"\n",
      " \"Russians, Putin Says', 'EU Lost 5 Times More From Sanctions Than Russia, \"\n",
      " \"Putin Says']['Russia to Suspend Georgian Flights to Russia Starting July 8', \"\n",
      " \"'Putin Suspends Passenger Flights From Russia to Georgia', 'Russia Will Help \"\n",
      " \"Iran With Oil If Payment Channel Not Launched, Official Says', 'Russians Are \"\n",
      " \"Losing Interest in Foreign Policy, Poll Says', 'Russian Hermit Seeks Peace \"\n",
      " \"in Remote Siberia', 'Georgian Parliament Leader Resigns Over Mass \"\n",
      " \"Anti-Russian Protests', 'Russia Accuses U.S. of Pushing Iran Situation to \"\n",
      " \"Brink of War', 'Chechen Human Rights Leader Titiyev Released From Prison, 18 \"\n",
      " \"Months After Arrest', '‘Russia Is Our Enemy’: The Reactions to Anti-Russian \"\n",
      " \"Protests in Georgia', 'EU Extends Economic Sanctions on Russia Until 2020', \"\n",
      " '\"Georgians Angry Over Russian Lawmaker\\'s Visit Try to Storm Parliament\", '\n",
      " \"'‘Like Pre-Revolutionary Pogroms’: Ethnic Conflicts on the Rise in Russia', \"\n",
      " \"'Crowds of Protesters Set Up Camp Against Landfill in Russia’s North', \"\n",
      " \"'Russia Starts Freeing Captive Belugas From ‘Whale Prison,’ Reports Say', \"\n",
      " '\"The Key Quotes of Putin\\'s Annual Question and Answer Session\", '\n",
      " \"'Protesters Support Teenage Sisters Charged With Murder for Killing Abusive \"\n",
      " \"Father', 'Fate of Captured Ukrainian Sailors Must be Tied to Jailed \"\n",
      " \"Russians, Putin Says', 'EU Lost 5 Times More From Sanctions Than Russia, \"\n",
      " \"Putin Says']['Russia to Suspend Georgian Flights to Russia Starting July 8', \"\n",
      " \"'Putin Suspends Passenger Flights From Russia to Georgia', 'Russia Will Help \"\n",
      " \"Iran With Oil If Payment Channel Not Launched, Official Says', 'Russians Are \"\n",
      " \"Losing Interest in Foreign Policy, Poll Says', 'Russian Hermit Seeks Peace \"\n",
      " \"in Remote Siberia', 'Georgian Parliament Leader Resigns Over Mass \"\n",
      " \"Anti-Russian Protests', 'Russia Accuses U.S. of Pushing Iran Situation to \"\n",
      " \"Brink of War', 'Chechen Human Rights Leader Titiyev Released From Prison, 18 \"\n",
      " \"Months After Arrest', '‘Russia Is Our Enemy’: The Reactions to Anti-Russian \"\n",
      " \"Protests in Georgia', 'EU Extends Economic Sanctions on Russia Until 2020', \"\n",
      " '\"Georgians Angry Over Russian Lawmaker\\'s Visit Try to Storm Parliament\", '\n",
      " \"'‘Like Pre-Revolutionary Pogroms’: Ethnic Conflicts on the Rise in Russia', \"\n",
      " \"'Crowds of Protesters Set Up Camp Against Landfill in Russia’s North', \"\n",
      " \"'Russia Starts Freeing Captive Belugas From ‘Whale Prison,’ Reports Say', \"\n",
      " '\"The Key Quotes of Putin\\'s Annual Question and Answer Session\", '\n",
      " \"'Protesters Support Teenage Sisters Charged With Murder for Killing Abusive \"\n",
      " \"Father', 'Fate of Captured Ukrainian Sailors Must be Tied to Jailed \"\n",
      " \"Russians, Putin Says', 'EU Lost 5 Times More From Sanctions Than Russia, \"\n",
      " \"Putin Says']['Russia to Suspend Georgian Flights to Russia Starting July 8', \"\n",
      " \"'Putin Suspends Passenger Flights From Russia to Georgia', 'Russia Will Help \"\n",
      " \"Iran With Oil If Payment Channel Not Launched, Official Says', 'Russians Are \"\n",
      " \"Losing Interest in Foreign Policy, Poll Says', 'Russian Hermit Seeks Peace \"\n",
      " \"in Remote Siberia', 'Georgian Parliament Leader Resigns Over Mass \"\n",
      " \"Anti-Russian Protests', 'Russia Accuses U.S. of Pushing Iran Situation to \"\n",
      " \"Brink of War', 'Chechen Human Rights Leader Titiyev Released From Prison, 18 \"\n",
      " \"Months After Arrest', '‘Russia Is Our Enemy’: The Reactions to Anti-Russian \"\n",
      " \"Protests in Georgia', 'EU Extends Economic Sanctions on Russia Until 2020', \"\n",
      " '\"Georgians Angry Over Russian Lawmaker\\'s Visit Try to Storm Parliament\", '\n",
      " \"'‘Like Pre-Revolutionary Pogroms’: Ethnic Conflicts on the Rise in Russia', \"\n",
      " \"'Crowds of Protesters Set Up Camp Against Landfill in Russia’s North', \"\n",
      " \"'Russia Starts Freeing Captive Belugas From ‘Whale Prison,’ Reports Say', \"\n",
      " '\"The Key Quotes of Putin\\'s Annual Question and Answer Session\", '\n",
      " \"'Protesters Support Teenage Sisters Charged With Murder for Killing Abusive \"\n",
      " \"Father', 'Fate of Captured Ukrainian Sailors Must be Tied to Jailed \"\n",
      " \"Russians, Putin Says', 'EU Lost 5 Times More From Sanctions Than Russia, \"\n",
      " \"Putin Says']\")\n"
     ]
    }
   ],
   "source": [
    "#News+Opinion+Business+ArtAndLife+Meanwhile:\n",
    "response = requests.get(url+\"meanwhile\")\n",
    "titles_info = str(titles_info) + str([title.text for title in titles_container]) #Final str\n",
    "\n",
    "pprint(titles_info)"
   ]
  },
  {
   "cell_type": "code",
   "execution_count": 7,
   "metadata": {},
   "outputs": [],
   "source": [
    "#Clean punctuation:\n",
    "def replace_punctuation (text, replace):\n",
    "      return re.sub(\"[%s]\" % re.escape(string.punctuation), replace, text)\n",
    "\n",
    "titles_info = replace_punctuation(str(titles_info), \"\")\n",
    "\n",
    "#Clean other chars:\n",
    "titles_info = titles_info.replace(\"’\", \"\").replace(\"‘\", \"\").replace(\"'\", \"\").replace(\"\\n\",\"\").replace(\"\\t\",\"\").replace(\"\\\\ \", \"\")\n",
    "\n",
    "#Lower case:\n",
    "titles_info = titles_info.lower()"
   ]
  },
  {
   "cell_type": "code",
   "execution_count": 8,
   "metadata": {},
   "outputs": [],
   "source": [
    "#Token list:\n",
    "words = nltk.tokenize.word_tokenize(titles_info)\n",
    "\n",
    "#Stopwords list:\n",
    "stopwords = nltk.corpus.stopwords.words(\"english\") \n",
    "\n",
    "#FreqDist:\n",
    "words_except_stop_dist = nltk.FreqDist(word for word in words if word not in stopwords)"
   ]
  },
  {
   "cell_type": "code",
   "execution_count": 9,
   "metadata": {},
   "outputs": [
    {
     "name": "stdout",
     "output_type": "stream",
     "text": [
      "Top 15 frequencies, excluding stopwords:\n",
      "---------------------------------------------\n",
      "           Word  Frequency\n",
      "0        russia         46\n",
      "1          says         16\n",
      "2         putin         15\n",
      "3      georgian         10\n",
      "4       flights         10\n",
      "5       georgia         10\n",
      "6          iran         10\n",
      "7      russians         10\n",
      "8       russian         10\n",
      "9    parliament         10\n",
      "10       leader         10\n",
      "11  antirussian         10\n",
      "12     protests         10\n",
      "13       prison         10\n",
      "14           eu         10\n",
      "---------------------------------------------\n"
     ]
    },
    {
     "data": {
      "image/png": "[encoded data removed]",
      "text/plain": [
       "<Figure size 432x288 with 1 Axes>"
      ]
     },
     "metadata": {
      "needs_background": "light"
     },
     "output_type": "display_data"
    }
   ],
   "source": [
    "#Results:\n",
    "top = 15\n",
    "results = pd.DataFrame(words_except_stop_dist.most_common(top), columns = [\"Word\", \"Frequency\"]) # DF Most common \n",
    "\n",
    "print(\"Top\", top, \"frequencies, excluding stopwords:\")\n",
    "print(\"-\" * 45)\n",
    "print(results)\n",
    "print(\"-\" * 45)\n",
    "\n",
    "words_except_stop_dist.plot(top, title=\"Top frequencies\") #Graph"
   ]
  },
  {
   "cell_type": "code",
   "execution_count": 10,
   "metadata": {},
   "outputs": [],
   "source": [
    "#results.drop(results[results.Word == \"russia\"].index, inplace = True)\n",
    "#results.drop(results[results.Word == \"russians\"].index, inplace = True)\n",
    "#results.drop(results[results.Word == \"russian\"].index, inplace = True)\n",
    "#results.drop(results[results.Word == \"says\"].index, inplace = True)"
   ]
  },
  {
   "cell_type": "code",
   "execution_count": 11,
   "metadata": {},
   "outputs": [
    {
     "data": {
      "text/html": [
       "<div>\n",
       "<style scoped>\n",
       "    .dataframe tbody tr th:only-of-type {\n",
       "        vertical-align: middle;\n",
       "    }\n",
       "\n",
       "    .dataframe tbody tr th {\n",
       "        vertical-align: top;\n",
       "    }\n",
       "\n",
       "    .dataframe thead th {\n",
       "        text-align: right;\n",
       "    }\n",
       "</style>\n",
       "<table border=\"1\" class=\"dataframe\">\n",
       "  <thead>\n",
       "    <tr style=\"text-align: right;\">\n",
       "      <th></th>\n",
       "      <th>0</th>\n",
       "      <th>1</th>\n",
       "    </tr>\n",
       "  </thead>\n",
       "  <tbody>\n",
       "    <tr>\n",
       "      <th>0</th>\n",
       "      <td>russia</td>\n",
       "      <td>NN</td>\n",
       "    </tr>\n",
       "    <tr>\n",
       "      <th>1</th>\n",
       "      <td>suspend</td>\n",
       "      <td>NN</td>\n",
       "    </tr>\n",
       "    <tr>\n",
       "      <th>2</th>\n",
       "      <td>georgian</td>\n",
       "      <td>JJ</td>\n",
       "    </tr>\n",
       "    <tr>\n",
       "      <th>3</th>\n",
       "      <td>flights</td>\n",
       "      <td>NNS</td>\n",
       "    </tr>\n",
       "    <tr>\n",
       "      <th>4</th>\n",
       "      <td>starting</td>\n",
       "      <td>VBG</td>\n",
       "    </tr>\n",
       "    <tr>\n",
       "      <th>5</th>\n",
       "      <td>july</td>\n",
       "      <td>NN</td>\n",
       "    </tr>\n",
       "    <tr>\n",
       "      <th>6</th>\n",
       "      <td>8</td>\n",
       "      <td>CD</td>\n",
       "    </tr>\n",
       "    <tr>\n",
       "      <th>7</th>\n",
       "      <td>putin</td>\n",
       "      <td>NN</td>\n",
       "    </tr>\n",
       "    <tr>\n",
       "      <th>8</th>\n",
       "      <td>suspends</td>\n",
       "      <td>NNS</td>\n",
       "    </tr>\n",
       "    <tr>\n",
       "      <th>9</th>\n",
       "      <td>passenger</td>\n",
       "      <td>NN</td>\n",
       "    </tr>\n",
       "    <tr>\n",
       "      <th>10</th>\n",
       "      <td>georgia</td>\n",
       "      <td>NN</td>\n",
       "    </tr>\n",
       "    <tr>\n",
       "      <th>11</th>\n",
       "      <td>help</td>\n",
       "      <td>NN</td>\n",
       "    </tr>\n",
       "    <tr>\n",
       "      <th>12</th>\n",
       "      <td>iran</td>\n",
       "      <td>VB</td>\n",
       "    </tr>\n",
       "    <tr>\n",
       "      <th>13</th>\n",
       "      <td>oil</td>\n",
       "      <td>NN</td>\n",
       "    </tr>\n",
       "    <tr>\n",
       "      <th>14</th>\n",
       "      <td>payment</td>\n",
       "      <td>NN</td>\n",
       "    </tr>\n",
       "  </tbody>\n",
       "</table>\n",
       "</div>"
      ],
      "text/plain": [
       "            0    1\n",
       "0      russia   NN\n",
       "1     suspend   NN\n",
       "2    georgian   JJ\n",
       "3     flights  NNS\n",
       "4    starting  VBG\n",
       "5        july   NN\n",
       "6           8   CD\n",
       "7       putin   NN\n",
       "8    suspends  NNS\n",
       "9   passenger   NN\n",
       "10    georgia   NN\n",
       "11       help   NN\n",
       "12       iran   VB\n",
       "13        oil   NN\n",
       "14    payment   NN"
      ]
     },
     "execution_count": 11,
     "metadata": {},
     "output_type": "execute_result"
    }
   ],
   "source": [
    "#Word tags: https://www.sketchengine.eu/penn-treebank-tagset/\n",
    "word_tags = nltk.pos_tag(words_except_stop_dist) #Return list\n",
    "\n",
    "word_tags = pd.DataFrame(word_tags)\n",
    "\n",
    "word_tags.head(15)\n",
    "\n",
    "#Iran != VB!!"
   ]
  },
  {
   "cell_type": "code",
   "execution_count": 12,
   "metadata": {},
   "outputs": [
    {
     "ename": "TypeError",
     "evalue": "expected string or bytes-like object",
     "output_type": "error",
     "traceback": [
      "\u001b[0;31m---------------------------------------------------------------------------\u001b[0m",
      "\u001b[0;31mTypeError\u001b[0m                                 Traceback (most recent call last)",
      "\u001b[0;32m<ipython-input-12-62dd37232219>\u001b[0m in \u001b[0;36m<module>\u001b[0;34m\u001b[0m\n\u001b[1;32m      1\u001b[0m \u001b[0;31m#How many verbs:\u001b[0m\u001b[0;34m\u001b[0m\u001b[0;34m\u001b[0m\u001b[0;34m\u001b[0m\u001b[0m\n\u001b[0;32m----> 2\u001b[0;31m \u001b[0mword_tags\u001b[0m\u001b[0;34m[\u001b[0m\u001b[0;34m(\u001b[0m\u001b[0mword_tags\u001b[0m\u001b[0;34m[\u001b[0m\u001b[0;36m1\u001b[0m\u001b[0;34m]\u001b[0m \u001b[0;34m==\u001b[0m \u001b[0mre\u001b[0m\u001b[0;34m.\u001b[0m\u001b[0mmatch\u001b[0m\u001b[0;34m(\u001b[0m\u001b[0;34mr\"VB?\\w+\"\u001b[0m\u001b[0;34m,\u001b[0m \u001b[0mword_tags\u001b[0m\u001b[0;34m[\u001b[0m\u001b[0;36m1\u001b[0m\u001b[0;34m]\u001b[0m\u001b[0;34m)\u001b[0m\u001b[0;34m)\u001b[0m\u001b[0;34m]\u001b[0m\u001b[0;34m\u001b[0m\u001b[0;34m\u001b[0m\u001b[0m\n\u001b[0m",
      "\u001b[0;32m/usr/lib/python3.6/re.py\u001b[0m in \u001b[0;36mmatch\u001b[0;34m(pattern, string, flags)\u001b[0m\n\u001b[1;32m    170\u001b[0m     \"\"\"Try to apply the pattern at the start of the string, returning\n\u001b[1;32m    171\u001b[0m     a match object, or None if no match was found.\"\"\"\n\u001b[0;32m--> 172\u001b[0;31m     \u001b[0;32mreturn\u001b[0m \u001b[0m_compile\u001b[0m\u001b[0;34m(\u001b[0m\u001b[0mpattern\u001b[0m\u001b[0;34m,\u001b[0m \u001b[0mflags\u001b[0m\u001b[0;34m)\u001b[0m\u001b[0;34m.\u001b[0m\u001b[0mmatch\u001b[0m\u001b[0;34m(\u001b[0m\u001b[0mstring\u001b[0m\u001b[0;34m)\u001b[0m\u001b[0;34m\u001b[0m\u001b[0;34m\u001b[0m\u001b[0m\n\u001b[0m\u001b[1;32m    173\u001b[0m \u001b[0;34m\u001b[0m\u001b[0m\n\u001b[1;32m    174\u001b[0m \u001b[0;32mdef\u001b[0m \u001b[0mfullmatch\u001b[0m\u001b[0;34m(\u001b[0m\u001b[0mpattern\u001b[0m\u001b[0;34m,\u001b[0m \u001b[0mstring\u001b[0m\u001b[0;34m,\u001b[0m \u001b[0mflags\u001b[0m\u001b[0;34m=\u001b[0m\u001b[0;36m0\u001b[0m\u001b[0;34m)\u001b[0m\u001b[0;34m:\u001b[0m\u001b[0;34m\u001b[0m\u001b[0;34m\u001b[0m\u001b[0m\n",
      "\u001b[0;31mTypeError\u001b[0m: expected string or bytes-like object"
     ]
    }
   ],
   "source": [
    "#How many verbs:\n",
    "word_tags[(word_tags[1] == re.match(r\"VB?\\w+\", word_tags[1]))]"
   ]
  }
 ],
 "metadata": {
  "kernelspec": {
   "display_name": "Python 3",
   "language": "python",
   "name": "python3"
  },
  "language_info": {
   "codemirror_mode": {
    "name": "ipython",
    "version": 3
   },
   "file_extension": ".py",
   "mimetype": "text/x-python",
   "name": "python",
   "nbconvert_exporter": "python",
   "pygments_lexer": "ipython3",
   "version": "3.6.8"
  }
 },
 "nbformat": 4,
 "nbformat_minor": 2
}
